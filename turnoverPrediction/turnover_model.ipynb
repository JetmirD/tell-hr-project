{
 "cells": [
  {
   "cell_type": "code",
   "execution_count": 1,
   "metadata": {},
   "outputs": [],
   "source": [
    "# Importing Libraries for Data Manipulation and Visualization\n",
    "import pandas as pd\n",
    "import numpy as np\n",
    "import matplotlib.pyplot as plt\n",
    "import seaborn as sns\n",
    "\n",
    "# Machine Learning Libraries\n",
    "from sklearn.model_selection import train_test_split, GridSearchCV, cross_val_score\n",
    "from sklearn.preprocessing import StandardScaler, OneHotEncoder\n",
    "from sklearn.pipeline import Pipeline\n",
    "from sklearn.compose import ColumnTransformer\n",
    "from sklearn.linear_model import LogisticRegression\n",
    "from sklearn.metrics import (\n",
    "    classification_report,\n",
    "    confusion_matrix,\n",
    "    accuracy_score,\n",
    "    roc_auc_score,\n",
    "    roc_curve\n",
    ")\n",
    "from sklearn.impute import SimpleImputer\n",
    "\n",
    "# Multicollinearity Check\n",
    "from statsmodels.stats.outliers_influence import variance_inflation_factor\n",
    "\n",
    "\n",
    "# Suppress warnings for cleaner output\n",
    "import warnings\n",
    "warnings.filterwarnings('ignore')\n",
    "\n",
    "# Display plots inline\n",
    "%matplotlib inline\n"
   ]
  },
  {
   "cell_type": "code",
   "execution_count": 2,
   "metadata": {},
   "outputs": [
    {
     "name": "stdout",
     "output_type": "stream",
     "text": [
      "Dataset Loaded Successfully!\n",
      "Shape of the dataset: (4519, 14)\n",
      "\n",
      "First 5 rows of the dataset:\n"
     ]
    },
    {
     "data": {
      "text/html": [
       "<div>\n",
       "<style scoped>\n",
       "    .dataframe tbody tr th:only-of-type {\n",
       "        vertical-align: middle;\n",
       "    }\n",
       "\n",
       "    .dataframe tbody tr th {\n",
       "        vertical-align: top;\n",
       "    }\n",
       "\n",
       "    .dataframe thead th {\n",
       "        text-align: right;\n",
       "    }\n",
       "</style>\n",
       "<table border=\"1\" class=\"dataframe\">\n",
       "  <thead>\n",
       "    <tr style=\"text-align: right;\">\n",
       "      <th></th>\n",
       "      <th>employeeID</th>\n",
       "      <th>Tenure</th>\n",
       "      <th>Age</th>\n",
       "      <th>Performance</th>\n",
       "      <th>DeptFreqEncoded</th>\n",
       "      <th>RoleFreqEncoded</th>\n",
       "      <th>JobSatisfaction</th>\n",
       "      <th>OverTime</th>\n",
       "      <th>DistanceFromHome</th>\n",
       "      <th>YearsSinceLastPromotion</th>\n",
       "      <th>TrainingTimesLastYear</th>\n",
       "      <th>JobInvolvement</th>\n",
       "      <th>Turnover</th>\n",
       "      <th>avg_sentiment</th>\n",
       "    </tr>\n",
       "  </thead>\n",
       "  <tbody>\n",
       "    <tr>\n",
       "      <th>0</th>\n",
       "      <td>1</td>\n",
       "      <td>0.085106</td>\n",
       "      <td>0.510638</td>\n",
       "      <td>0.374540</td>\n",
       "      <td>0.097367</td>\n",
       "      <td>0.093826</td>\n",
       "      <td>0.750790</td>\n",
       "      <td>0</td>\n",
       "      <td>0.022565</td>\n",
       "      <td>0.735718</td>\n",
       "      <td>0.8</td>\n",
       "      <td>0.045459</td>\n",
       "      <td>0</td>\n",
       "      <td>0.567469</td>\n",
       "    </tr>\n",
       "    <tr>\n",
       "      <th>1</th>\n",
       "      <td>2</td>\n",
       "      <td>0.000000</td>\n",
       "      <td>0.000000</td>\n",
       "      <td>0.950714</td>\n",
       "      <td>0.091613</td>\n",
       "      <td>0.097809</td>\n",
       "      <td>0.143866</td>\n",
       "      <td>0</td>\n",
       "      <td>0.861665</td>\n",
       "      <td>0.211717</td>\n",
       "      <td>0.4</td>\n",
       "      <td>0.838560</td>\n",
       "      <td>0</td>\n",
       "      <td>0.581199</td>\n",
       "    </tr>\n",
       "    <tr>\n",
       "      <th>2</th>\n",
       "      <td>3</td>\n",
       "      <td>0.000000</td>\n",
       "      <td>0.297872</td>\n",
       "      <td>0.731994</td>\n",
       "      <td>0.101350</td>\n",
       "      <td>0.099358</td>\n",
       "      <td>0.622060</td>\n",
       "      <td>0</td>\n",
       "      <td>0.577117</td>\n",
       "      <td>0.145286</td>\n",
       "      <td>0.6</td>\n",
       "      <td>0.989355</td>\n",
       "      <td>0</td>\n",
       "      <td>0.662175</td>\n",
       "    </tr>\n",
       "    <tr>\n",
       "      <th>3</th>\n",
       "      <td>4</td>\n",
       "      <td>0.042553</td>\n",
       "      <td>0.234043</td>\n",
       "      <td>0.598658</td>\n",
       "      <td>0.098473</td>\n",
       "      <td>0.094490</td>\n",
       "      <td>0.080323</td>\n",
       "      <td>1</td>\n",
       "      <td>0.890658</td>\n",
       "      <td>0.316292</td>\n",
       "      <td>0.6</td>\n",
       "      <td>0.472485</td>\n",
       "      <td>1</td>\n",
       "      <td>0.354309</td>\n",
       "    </tr>\n",
       "    <tr>\n",
       "      <th>4</th>\n",
       "      <td>5</td>\n",
       "      <td>0.042553</td>\n",
       "      <td>0.425532</td>\n",
       "      <td>0.156019</td>\n",
       "      <td>0.104669</td>\n",
       "      <td>0.094490</td>\n",
       "      <td>0.694622</td>\n",
       "      <td>1</td>\n",
       "      <td>0.596945</td>\n",
       "      <td>0.976071</td>\n",
       "      <td>0.2</td>\n",
       "      <td>0.969590</td>\n",
       "      <td>0</td>\n",
       "      <td>0.202792</td>\n",
       "    </tr>\n",
       "  </tbody>\n",
       "</table>\n",
       "</div>"
      ],
      "text/plain": [
       "   employeeID    Tenure       Age  Performance  DeptFreqEncoded  \\\n",
       "0           1  0.085106  0.510638     0.374540         0.097367   \n",
       "1           2  0.000000  0.000000     0.950714         0.091613   \n",
       "2           3  0.000000  0.297872     0.731994         0.101350   \n",
       "3           4  0.042553  0.234043     0.598658         0.098473   \n",
       "4           5  0.042553  0.425532     0.156019         0.104669   \n",
       "\n",
       "   RoleFreqEncoded  JobSatisfaction  OverTime  DistanceFromHome  \\\n",
       "0         0.093826         0.750790         0          0.022565   \n",
       "1         0.097809         0.143866         0          0.861665   \n",
       "2         0.099358         0.622060         0          0.577117   \n",
       "3         0.094490         0.080323         1          0.890658   \n",
       "4         0.094490         0.694622         1          0.596945   \n",
       "\n",
       "   YearsSinceLastPromotion  TrainingTimesLastYear  JobInvolvement  Turnover  \\\n",
       "0                 0.735718                    0.8        0.045459         0   \n",
       "1                 0.211717                    0.4        0.838560         0   \n",
       "2                 0.145286                    0.6        0.989355         0   \n",
       "3                 0.316292                    0.6        0.472485         1   \n",
       "4                 0.976071                    0.2        0.969590         0   \n",
       "\n",
       "   avg_sentiment  \n",
       "0       0.567469  \n",
       "1       0.581199  \n",
       "2       0.662175  \n",
       "3       0.354309  \n",
       "4       0.202792  "
      ]
     },
     "metadata": {},
     "output_type": "display_data"
    }
   ],
   "source": [
    "# Load the processed dataset\n",
    "data_path = 'dataset_FINAL_avg.csv'  # Update this path as needed\n",
    "df = pd.read_csv(data_path)\n",
    "df_predictions = df.copy()\n",
    "\n",
    "print(\"Dataset Loaded Successfully!\")\n",
    "print(f\"Shape of the dataset: {df.shape}\\n\")\n",
    "print(\"First 5 rows of the dataset:\")\n",
    "display(df.head())\n"
   ]
  },
  {
   "cell_type": "code",
   "execution_count": 3,
   "metadata": {},
   "outputs": [
    {
     "name": "stdout",
     "output_type": "stream",
     "text": [
      "\n",
      "Dropped 'employeeID' column.\n",
      "\n",
      "Missing values in each column:\n",
      "Tenure                     0\n",
      "Age                        0\n",
      "Performance                0\n",
      "DeptFreqEncoded            0\n",
      "RoleFreqEncoded            0\n",
      "JobSatisfaction            0\n",
      "OverTime                   0\n",
      "DistanceFromHome           0\n",
      "YearsSinceLastPromotion    0\n",
      "TrainingTimesLastYear      0\n",
      "JobInvolvement             0\n",
      "Turnover                   0\n",
      "avg_sentiment              0\n",
      "dtype: int64\n",
      "\n",
      "Numerical Columns: ['Tenure', 'Age', 'Performance', 'DeptFreqEncoded', 'RoleFreqEncoded', 'JobSatisfaction', 'OverTime', 'DistanceFromHome', 'YearsSinceLastPromotion', 'TrainingTimesLastYear', 'JobInvolvement', 'avg_sentiment']\n",
      "Categorical Columns: []\n"
     ]
    }
   ],
   "source": [
    "# Drop 'employeeID' as it's not a feature\n",
    "if 'employeeID' in df.columns:\n",
    "    df = df.drop(columns=['employeeID'])\n",
    "    print(\"\\nDropped 'employeeID' column.\")\n",
    "else:\n",
    "    print(\"\\n'employeeID' column not found. Skipping drop.\")\n",
    "\n",
    "# Check for missing values\n",
    "print(\"\\nMissing values in each column:\")\n",
    "print(df.isnull().sum())\n",
    "\n",
    "# Identify numerical and categorical columns\n",
    "numerical_cols = df.select_dtypes(include=['int64', 'float64']).columns.tolist()\n",
    "categorical_cols = df.select_dtypes(include=['object', 'category']).columns.tolist()\n",
    "\n",
    "# Remove target from feature lists\n",
    "if 'Turnover' in numerical_cols:\n",
    "    numerical_cols.remove('Turnover')\n",
    "if 'Turnover' in categorical_cols:\n",
    "    categorical_cols.remove('Turnover')\n",
    "\n",
    "print(f\"\\nNumerical Columns: {numerical_cols}\")\n",
    "print(f\"Categorical Columns: {categorical_cols}\")\n"
   ]
  },
  {
   "cell_type": "code",
   "execution_count": 4,
   "metadata": {},
   "outputs": [
    {
     "name": "stdout",
     "output_type": "stream",
     "text": [
      "\n",
      "Features and target defined.\n",
      "Features shape: (4519, 12)\n",
      "Target shape: (4519,)\n"
     ]
    }
   ],
   "source": [
    "# Define preprocessing for numerical data\n",
    "numerical_transformer = Pipeline(steps=[\n",
    "    ('imputer', SimpleImputer(strategy='median')),\n",
    "    ('scaler', StandardScaler())\n",
    "])\n",
    "\n",
    "# Define preprocessing for categorical data\n",
    "categorical_transformer = Pipeline(steps=[\n",
    "    ('imputer', SimpleImputer(strategy='most_frequent')),\n",
    "    ('onehot', OneHotEncoder(handle_unknown='ignore'))\n",
    "])\n",
    "\n",
    "# Combine preprocessing steps\n",
    "preprocessor = ColumnTransformer(\n",
    "    transformers=[\n",
    "        ('num', numerical_transformer, numerical_cols),\n",
    "        ('cat', categorical_transformer, categorical_cols)\n",
    "    ]\n",
    ")\n",
    "\n",
    "# Define features (X) and target (y)\n",
    "X = df.drop(columns=['Turnover'])  # Features\n",
    "y = df['Turnover']  # Target variable\n",
    "\n",
    "print(\"\\nFeatures and target defined.\")\n",
    "print(f\"Features shape: {X.shape}\")\n",
    "print(f\"Target shape: {y.shape}\")\n"
   ]
  },
  {
   "cell_type": "code",
   "execution_count": 5,
   "metadata": {},
   "outputs": [
    {
     "name": "stdout",
     "output_type": "stream",
     "text": [
      "\n",
      "Data split into training and testing sets.\n",
      "Training set shape: (3615, 12)\n",
      "Testing set shape: (904, 12)\n"
     ]
    }
   ],
   "source": [
    "# Split the data into training and testing sets (80-20 split) with stratification\n",
    "X_train, X_test, y_train, y_test = train_test_split(\n",
    "    X, y, test_size=0.2, random_state=42, stratify=y\n",
    ")\n",
    "\n",
    "print(\"\\nData split into training and testing sets.\")\n",
    "print(f\"Training set shape: {X_train.shape}\")\n",
    "print(f\"Testing set shape: {X_test.shape}\")\n"
   ]
  },
  {
   "cell_type": "code",
   "execution_count": 6,
   "metadata": {},
   "outputs": [
    {
     "name": "stdout",
     "output_type": "stream",
     "text": [
      "\n",
      "Class distribution in training set:\n",
      "Turnover\n",
      "0    2423\n",
      "1    1192\n",
      "Name: count, dtype: int64\n"
     ]
    }
   ],
   "source": [
    "# Check class distribution in training set\n",
    "print(\"\\nClass distribution in training set:\")\n",
    "print(y_train.value_counts())\n"
   ]
  },
  {
   "cell_type": "code",
   "execution_count": 7,
   "metadata": {},
   "outputs": [
    {
     "name": "stdout",
     "output_type": "stream",
     "text": [
      "\n",
      "Pipeline created.\n"
     ]
    }
   ],
   "source": [
    "# Initialize the Logistic Regression model with class_weight='balanced'\n",
    "logreg = LogisticRegression(random_state=42, class_weight='balanced', solver='liblinear')\n",
    "\n",
    "# Create a pipeline that first preprocesses the data and then fits the model\n",
    "pipeline = Pipeline(steps=[\n",
    "    ('preprocessor', preprocessor),\n",
    "    ('classifier', logreg)\n",
    "])\n",
    "\n",
    "print(\"\\nPipeline created.\")\n"
   ]
  },
  {
   "cell_type": "code",
   "execution_count": 8,
   "metadata": {},
   "outputs": [
    {
     "name": "stdout",
     "output_type": "stream",
     "text": [
      "Fitting 5 folds for each of 10 candidates, totalling 50 fits\n",
      "\n",
      "Best parameters from GridSearchCV:\n",
      "{'classifier__C': 0.01, 'classifier__penalty': 'l2'}\n"
     ]
    }
   ],
   "source": [
    "# Define parameter grid for GridSearchCV\n",
    "param_grid = {\n",
    "    'classifier__C': [0.01, 0.1, 1, 10, 100],\n",
    "    'classifier__penalty': ['l1', 'l2']\n",
    "}\n",
    "\n",
    "# Initialize GridSearchCV\n",
    "grid_search = GridSearchCV(\n",
    "    estimator=pipeline,\n",
    "    param_grid=param_grid,\n",
    "    cv=5,\n",
    "    scoring='accuracy',\n",
    "    n_jobs=-1,\n",
    "    verbose=1\n",
    ")\n",
    "\n",
    "# Fit GridSearchCV on the resampled training data\n",
    "grid_search.fit(X_train, y_train)\n",
    "\n",
    "print(\"\\nBest parameters from GridSearchCV:\")\n",
    "print(grid_search.best_params_)\n"
   ]
  },
  {
   "cell_type": "code",
   "execution_count": 9,
   "metadata": {},
   "outputs": [
    {
     "name": "stdout",
     "output_type": "stream",
     "text": [
      "\n",
      "Model Evaluation Metrics:\n",
      "Accuracy: 0.8274\n",
      "ROC AUC Score: 0.8610\n"
     ]
    }
   ],
   "source": [
    "# Use the best estimator\n",
    "best_model = grid_search.best_estimator_\n",
    "\n",
    "# Make predictions on the test set\n",
    "y_pred = best_model.predict(X_test)\n",
    "y_pred_proba = best_model.predict_proba(X_test)[:,1]\n",
    "\n",
    "# Calculate evaluation metrics\n",
    "accuracy = accuracy_score(y_test, y_pred)\n",
    "roc_auc = roc_auc_score(y_test, y_pred_proba)\n",
    "\n",
    "print(\"\\nModel Evaluation Metrics:\")\n",
    "print(f\"Accuracy: {accuracy:.4f}\")\n",
    "print(f\"ROC AUC Score: {roc_auc:.4f}\")\n"
   ]
  },
  {
   "cell_type": "code",
   "execution_count": 10,
   "metadata": {},
   "outputs": [
    {
     "name": "stdout",
     "output_type": "stream",
     "text": [
      "\n",
      "Classification Report:\n",
      "              precision    recall  f1-score   support\n",
      "\n",
      "           0       0.91      0.82      0.86       606\n",
      "           1       0.70      0.84      0.76       298\n",
      "\n",
      "    accuracy                           0.83       904\n",
      "   macro avg       0.81      0.83      0.81       904\n",
      "weighted avg       0.84      0.83      0.83       904\n",
      "\n"
     ]
    }
   ],
   "source": [
    "# Classification Report\n",
    "print(\"\\nClassification Report:\")\n",
    "print(classification_report(y_test, y_pred))\n"
   ]
  },
  {
   "cell_type": "code",
   "execution_count": 11,
   "metadata": {},
   "outputs": [
    {
     "name": "stdout",
     "output_type": "stream",
     "text": [
      "\n",
      "Confusion Matrix:\n",
      "[[497 109]\n",
      " [ 47 251]]\n"
     ]
    },
    {
     "data": {
      "image/png": "[encoded data removed]",
      "text/plain": [
       "<Figure size 600x400 with 2 Axes>"
      ]
     },
     "metadata": {},
     "output_type": "display_data"
    }
   ],
   "source": [
    "# Confusion Matrix\n",
    "conf_matrix = confusion_matrix(y_test, y_pred)\n",
    "print(\"\\nConfusion Matrix:\")\n",
    "print(conf_matrix)\n",
    "\n",
    "# Plot Confusion Matrix\n",
    "plt.figure(figsize=(6,4))\n",
    "sns.heatmap(conf_matrix, annot=True, fmt='d', cmap='Blues')\n",
    "plt.title('Confusion Matrix')\n",
    "plt.xlabel('Predicted')\n",
    "plt.ylabel('Actual')\n",
    "plt.show()\n"
   ]
  },
  {
   "cell_type": "code",
   "execution_count": 12,
   "metadata": {},
   "outputs": [
    {
     "name": "stdout",
     "output_type": "stream",
     "text": [
      "\n",
      "Feature Importance with Odds Ratios:\n"
     ]
    },
    {
     "data": {
      "text/html": [
       "<div>\n",
       "<style scoped>\n",
       "    .dataframe tbody tr th:only-of-type {\n",
       "        vertical-align: middle;\n",
       "    }\n",
       "\n",
       "    .dataframe tbody tr th {\n",
       "        vertical-align: top;\n",
       "    }\n",
       "\n",
       "    .dataframe thead th {\n",
       "        text-align: right;\n",
       "    }\n",
       "</style>\n",
       "<table border=\"1\" class=\"dataframe\">\n",
       "  <thead>\n",
       "    <tr style=\"text-align: right;\">\n",
       "      <th></th>\n",
       "      <th>Feature</th>\n",
       "      <th>Coefficient</th>\n",
       "      <th>Odds Ratio</th>\n",
       "    </tr>\n",
       "  </thead>\n",
       "  <tbody>\n",
       "    <tr>\n",
       "      <th>11</th>\n",
       "      <td>avg_sentiment</td>\n",
       "      <td>-1.263660</td>\n",
       "      <td>0.282618</td>\n",
       "    </tr>\n",
       "    <tr>\n",
       "      <th>6</th>\n",
       "      <td>OverTime</td>\n",
       "      <td>0.168346</td>\n",
       "      <td>1.183346</td>\n",
       "    </tr>\n",
       "    <tr>\n",
       "      <th>3</th>\n",
       "      <td>DeptFreqEncoded</td>\n",
       "      <td>-0.079963</td>\n",
       "      <td>0.923150</td>\n",
       "    </tr>\n",
       "    <tr>\n",
       "      <th>1</th>\n",
       "      <td>Age</td>\n",
       "      <td>-0.024759</td>\n",
       "      <td>0.975545</td>\n",
       "    </tr>\n",
       "    <tr>\n",
       "      <th>2</th>\n",
       "      <td>Performance</td>\n",
       "      <td>0.021896</td>\n",
       "      <td>1.022138</td>\n",
       "    </tr>\n",
       "    <tr>\n",
       "      <th>5</th>\n",
       "      <td>JobSatisfaction</td>\n",
       "      <td>0.012063</td>\n",
       "      <td>1.012136</td>\n",
       "    </tr>\n",
       "    <tr>\n",
       "      <th>8</th>\n",
       "      <td>YearsSinceLastPromotion</td>\n",
       "      <td>0.008903</td>\n",
       "      <td>1.008943</td>\n",
       "    </tr>\n",
       "    <tr>\n",
       "      <th>0</th>\n",
       "      <td>Tenure</td>\n",
       "      <td>-0.007024</td>\n",
       "      <td>0.993001</td>\n",
       "    </tr>\n",
       "    <tr>\n",
       "      <th>9</th>\n",
       "      <td>TrainingTimesLastYear</td>\n",
       "      <td>0.005714</td>\n",
       "      <td>1.005731</td>\n",
       "    </tr>\n",
       "    <tr>\n",
       "      <th>10</th>\n",
       "      <td>JobInvolvement</td>\n",
       "      <td>0.005015</td>\n",
       "      <td>1.005028</td>\n",
       "    </tr>\n",
       "    <tr>\n",
       "      <th>4</th>\n",
       "      <td>RoleFreqEncoded</td>\n",
       "      <td>0.003896</td>\n",
       "      <td>1.003904</td>\n",
       "    </tr>\n",
       "    <tr>\n",
       "      <th>7</th>\n",
       "      <td>DistanceFromHome</td>\n",
       "      <td>-0.000555</td>\n",
       "      <td>0.999445</td>\n",
       "    </tr>\n",
       "  </tbody>\n",
       "</table>\n",
       "</div>"
      ],
      "text/plain": [
       "                    Feature  Coefficient  Odds Ratio\n",
       "11            avg_sentiment    -1.263660    0.282618\n",
       "6                  OverTime     0.168346    1.183346\n",
       "3           DeptFreqEncoded    -0.079963    0.923150\n",
       "1                       Age    -0.024759    0.975545\n",
       "2               Performance     0.021896    1.022138\n",
       "5           JobSatisfaction     0.012063    1.012136\n",
       "8   YearsSinceLastPromotion     0.008903    1.008943\n",
       "0                    Tenure    -0.007024    0.993001\n",
       "9     TrainingTimesLastYear     0.005714    1.005731\n",
       "10           JobInvolvement     0.005015    1.005028\n",
       "4           RoleFreqEncoded     0.003896    1.003904\n",
       "7          DistanceFromHome    -0.000555    0.999445"
      ]
     },
     "metadata": {},
     "output_type": "display_data"
    }
   ],
   "source": [
    "# Extract the preprocessed feature names\n",
    "preprocessor.fit(X_train, y_train)\n",
    "if categorical_cols:\n",
    "    cat_features = preprocessor.named_transformers_['cat']['onehot'].get_feature_names_out(categorical_cols)\n",
    "else:\n",
    "    cat_features = []\n",
    "feature_names = numerical_cols + list(cat_features)\n",
    "\n",
    "# Get coefficients from the logistic regression model\n",
    "coefficients = best_model.named_steps['classifier'].coef_[0]\n",
    "\n",
    "# Create a DataFrame for feature importance\n",
    "feature_importance = pd.DataFrame({\n",
    "    'Feature': feature_names,\n",
    "    'Coefficient': coefficients\n",
    "})\n",
    "feature_importance['Odds Ratio'] = np.exp(feature_importance['Coefficient'])\n",
    "\n",
    "# Sort by absolute value of coefficients\n",
    "feature_importance['Abs_Coefficient'] = feature_importance['Coefficient'].abs()\n",
    "feature_importance = feature_importance.sort_values(by='Abs_Coefficient', ascending=False)\n",
    "feature_importance = feature_importance.drop(columns=['Abs_Coefficient'])\n",
    "\n",
    "print(\"\\nFeature Importance with Odds Ratios:\")\n",
    "display(feature_importance)\n"
   ]
  },
  {
   "cell_type": "code",
   "execution_count": 13,
   "metadata": {},
   "outputs": [
    {
     "data": {
      "image/png": "[encoded data removed]",
      "text/plain": [
       "<Figure size 1000x800 with 1 Axes>"
      ]
     },
     "metadata": {},
     "output_type": "display_data"
    }
   ],
   "source": [
    "# Plot Feature Coefficients\n",
    "plt.figure(figsize=(10,8))\n",
    "sns.barplot(x='Coefficient', y='Feature', data=feature_importance)\n",
    "plt.title('Feature Coefficients')\n",
    "plt.xlabel('Coefficient Value')\n",
    "plt.ylabel('Feature')\n",
    "plt.tight_layout()\n",
    "plt.show()\n"
   ]
  },
  {
   "cell_type": "code",
   "execution_count": 14,
   "metadata": {},
   "outputs": [
    {
     "data": {
      "image/png": "[encoded data removed]",
      "text/plain": [
       "<Figure size 1000x800 with 1 Axes>"
      ]
     },
     "metadata": {},
     "output_type": "display_data"
    }
   ],
   "source": [
    "# Plot Odds Ratios\n",
    "plt.figure(figsize=(10,8))\n",
    "sns.barplot(x='Odds Ratio', y='Feature', data=feature_importance)\n",
    "plt.title('Feature Odds Ratios')\n",
    "plt.xlabel('Odds Ratio')\n",
    "plt.ylabel('Feature')\n",
    "plt.xscale('log')  # Log scale for better visualization\n",
    "plt.tight_layout()\n",
    "plt.show()\n"
   ]
  },
  {
   "cell_type": "code",
   "execution_count": 15,
   "metadata": {},
   "outputs": [
    {
     "name": "stdout",
     "output_type": "stream",
     "text": [
      "\n",
      "Variance Inflation Factor (VIF) for each feature:\n"
     ]
    },
    {
     "data": {
      "text/html": [
       "<div>\n",
       "<style scoped>\n",
       "    .dataframe tbody tr th:only-of-type {\n",
       "        vertical-align: middle;\n",
       "    }\n",
       "\n",
       "    .dataframe tbody tr th {\n",
       "        vertical-align: top;\n",
       "    }\n",
       "\n",
       "    .dataframe thead th {\n",
       "        text-align: right;\n",
       "    }\n",
       "</style>\n",
       "<table border=\"1\" class=\"dataframe\">\n",
       "  <thead>\n",
       "    <tr style=\"text-align: right;\">\n",
       "      <th></th>\n",
       "      <th>Feature</th>\n",
       "      <th>VIF</th>\n",
       "    </tr>\n",
       "  </thead>\n",
       "  <tbody>\n",
       "    <tr>\n",
       "      <th>0</th>\n",
       "      <td>Tenure</td>\n",
       "      <td>1.771528</td>\n",
       "    </tr>\n",
       "    <tr>\n",
       "      <th>1</th>\n",
       "      <td>Age</td>\n",
       "      <td>1.769292</td>\n",
       "    </tr>\n",
       "    <tr>\n",
       "      <th>6</th>\n",
       "      <td>OverTime</td>\n",
       "      <td>1.139942</td>\n",
       "    </tr>\n",
       "    <tr>\n",
       "      <th>11</th>\n",
       "      <td>avg_sentiment</td>\n",
       "      <td>1.139390</td>\n",
       "    </tr>\n",
       "    <tr>\n",
       "      <th>7</th>\n",
       "      <td>DistanceFromHome</td>\n",
       "      <td>1.005608</td>\n",
       "    </tr>\n",
       "    <tr>\n",
       "      <th>5</th>\n",
       "      <td>JobSatisfaction</td>\n",
       "      <td>1.003535</td>\n",
       "    </tr>\n",
       "    <tr>\n",
       "      <th>3</th>\n",
       "      <td>DeptFreqEncoded</td>\n",
       "      <td>1.003467</td>\n",
       "    </tr>\n",
       "    <tr>\n",
       "      <th>4</th>\n",
       "      <td>RoleFreqEncoded</td>\n",
       "      <td>1.003443</td>\n",
       "    </tr>\n",
       "    <tr>\n",
       "      <th>10</th>\n",
       "      <td>JobInvolvement</td>\n",
       "      <td>1.003198</td>\n",
       "    </tr>\n",
       "    <tr>\n",
       "      <th>9</th>\n",
       "      <td>TrainingTimesLastYear</td>\n",
       "      <td>1.002895</td>\n",
       "    </tr>\n",
       "    <tr>\n",
       "      <th>2</th>\n",
       "      <td>Performance</td>\n",
       "      <td>1.001253</td>\n",
       "    </tr>\n",
       "    <tr>\n",
       "      <th>8</th>\n",
       "      <td>YearsSinceLastPromotion</td>\n",
       "      <td>1.000960</td>\n",
       "    </tr>\n",
       "  </tbody>\n",
       "</table>\n",
       "</div>"
      ],
      "text/plain": [
       "                    Feature       VIF\n",
       "0                    Tenure  1.771528\n",
       "1                       Age  1.769292\n",
       "6                  OverTime  1.139942\n",
       "11            avg_sentiment  1.139390\n",
       "7          DistanceFromHome  1.005608\n",
       "5           JobSatisfaction  1.003535\n",
       "3           DeptFreqEncoded  1.003467\n",
       "4           RoleFreqEncoded  1.003443\n",
       "10           JobInvolvement  1.003198\n",
       "9     TrainingTimesLastYear  1.002895\n",
       "2               Performance  1.001253\n",
       "8   YearsSinceLastPromotion  1.000960"
      ]
     },
     "metadata": {},
     "output_type": "display_data"
    }
   ],
   "source": [
    "# For VIF calculation, we need the numerical features only\n",
    "# Refit preprocessor to get the transformed training data\n",
    "X_train_preprocessed = preprocessor.transform(X_train)\n",
    "X_train_preprocessed = pd.DataFrame(\n",
    "    X_train_preprocessed, \n",
    "    columns=feature_names\n",
    ")\n",
    "\n",
    "# Calculate VIF for each feature\n",
    "vif_data = pd.DataFrame()\n",
    "vif_data[\"Feature\"] = X_train_preprocessed.columns\n",
    "vif_data[\"VIF\"] = [\n",
    "    variance_inflation_factor(X_train_preprocessed.values, i) \n",
    "    for i in range(X_train_preprocessed.shape[1])\n",
    "]\n",
    "\n",
    "print(\"\\nVariance Inflation Factor (VIF) for each feature:\")\n",
    "display(vif_data.sort_values(by='VIF', ascending=False))\n"
   ]
  },
  {
   "cell_type": "code",
   "execution_count": 16,
   "metadata": {},
   "outputs": [
    {
     "name": "stdout",
     "output_type": "stream",
     "text": [
      "\n",
      "5-Fold Cross-Validation Accuracy Scores: [0.79535398 0.80309735 0.78650442 0.81526549 0.79955703]\n",
      "Mean CV Accuracy: 0.799955654210645\n"
     ]
    }
   ],
   "source": [
    "# Perform 5-fold cross-validation\n",
    "cv_scores = cross_val_score(best_model, X, y, cv=5, scoring='accuracy')\n",
    "print(\"\\n5-Fold Cross-Validation Accuracy Scores:\", cv_scores)\n",
    "print(\"Mean CV Accuracy:\", cv_scores.mean())\n"
   ]
  },
  {
   "cell_type": "code",
   "execution_count": 17,
   "metadata": {},
   "outputs": [
    {
     "name": "stdout",
     "output_type": "stream",
     "text": [
      "Model saved as best_model.pkl\n"
     ]
    }
   ],
   "source": [
    "import joblib\n",
    "\n",
    "# Save the best model to a pickle file\n",
    "model_filename = 'best_model.pkl'\n",
    "joblib.dump(best_model, model_filename)\n",
    "\n",
    "print(f\"Model saved as {model_filename}\")"
   ]
  },
  {
   "cell_type": "code",
   "execution_count": 18,
   "metadata": {},
   "outputs": [
    {
     "name": "stdout",
     "output_type": "stream",
     "text": [
      "Turnover predictions for all employees saved to 'turnovers_full.csv'!\n"
     ]
    }
   ],
   "source": [
    "# Ensure we use the full dataset (df) for predictions\n",
    "turnover_probabilities_all = best_model.predict_proba(X)[:, 1]  # Probability of turnover\n",
    "turnover_predictions_all = best_model.predict(X)  # Binary predictions (0 or 1)\n",
    "\n",
    "# Add predictions and 'employeeID' back to the DataFrame\n",
    "df_predictions['Turnover_Likelihood'] = turnover_probabilities_all\n",
    "df_predictions['Turnover_Prediction'] = turnover_predictions_all\n",
    "\n",
    "# Export the entire dataset with predictions to a CSV file\n",
    "df_predictions[['employeeID', 'Turnover_Likelihood', 'Turnover_Prediction']].to_csv('turnovers_full.csv', index=False)\n",
    "\n",
    "print(\"Turnover predictions for all employees saved to 'turnovers_full.csv'!\")\n"
   ]
  },
  {
   "cell_type": "code",
   "execution_count": 19,
   "metadata": {},
   "outputs": [
    {
     "name": "stdout",
     "output_type": "stream",
     "text": [
      "'Turnover_Prediction' column dropped.\n",
      "'Turnover_Likelihood' converted to 'riskScore'.\n",
      "'riskLevel' column added based on 'riskScore'.\n",
      "Processed data saved to processed_turnovers.csv\n",
      "\n",
      "Modified DataFrame:\n",
      "   employeeID  Turnover_Likelihood  riskScore riskLevel\n",
      "0           1             0.399761       40.0    medium\n",
      "1           2             0.414775       41.0      high\n",
      "2           3             0.268904       27.0    medium\n",
      "3           4             0.769083       77.0      high\n",
      "4           5             0.882593       88.0      high\n"
     ]
    }
   ],
   "source": [
    "# Load the CSV file\n",
    "file_path = 'turnovers_full.csv'  # Replace with your actual file path\n",
    "df_risks = pd.read_csv(file_path)\n",
    "\n",
    "# Drop the Turnover_Prediction column\n",
    "if 'Turnover_Prediction' in df_risks.columns:\n",
    "    df_risks = df_risks.drop(columns=['Turnover_Prediction'])\n",
    "    print(\"'Turnover_Prediction' column dropped.\")\n",
    "\n",
    "# Modify Turnover_Likelihood: multiply by 100, round it, and rename it to 'riskScore'\n",
    "if 'Turnover_Likelihood' in df_risks.columns:\n",
    "    df_risks['riskScore'] = (df_risks['Turnover_Likelihood'] * 100).round()\n",
    "    print(\"'Turnover_Likelihood' converted to 'riskScore'.\")\n",
    "\n",
    "# Add the 'riskLevel' column based on 'riskScore'\n",
    "def determine_risk_level(score):\n",
    "    if 0 <= score <= 20:\n",
    "        return 'low'\n",
    "    elif 20 < score <= 40:\n",
    "        return 'medium'\n",
    "    else:\n",
    "        return 'high'\n",
    "\n",
    "df_risks['riskLevel'] = df_risks['riskScore'].apply(determine_risk_level)\n",
    "print(\"'riskLevel' column added based on 'riskScore'.\")\n",
    "\n",
    "# Save the modified DataFrame to a new CSV file\n",
    "output_path = 'processed_turnovers.csv'  # Replace with your desired output file name\n",
    "df_risks.to_csv(output_path, index=False)\n",
    "print(f\"Processed data saved to {output_path}\")\n",
    "\n",
    "# Display the first few rows of the modified DataFrame for verification\n",
    "print(\"\\nModified DataFrame:\")\n",
    "print(df_risks.head())\n"
   ]
  }
 ],
 "metadata": {
  "kernelspec": {
   "display_name": "MLTest",
   "language": "python",
   "name": "python3"
  },
  "language_info": {
   "codemirror_mode": {
    "name": "ipython",
    "version": 3
   },
   "file_extension": ".py",
   "mimetype": "text/x-python",
   "name": "python",
   "nbconvert_exporter": "python",
   "pygments_lexer": "ipython3",
   "version": "3.10.12"
  }
 },
 "nbformat": 4,
 "nbformat_minor": 2
}
